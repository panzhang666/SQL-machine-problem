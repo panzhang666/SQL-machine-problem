{
 "cells": [
  {
   "cell_type": "markdown",
   "metadata": {},
   "source": [
    "<h1>Instructions</h1>\n",
    "<ol>\n",
    "<li>Click the button \"Not Trusted\" on the menu bar of this notebook (at the top-right), and change the value to \"Trusted\". \n",
    "<li>Click Cell -> Run All. If you skip this step you might get the error \"Cell magic `%%sql` not found.\"\n",
    "<li>In the cell below each question, write a SQL query for the question.  \n",
    "<li>After you enter a query, press Shift + Enter to run the cell. \n",
    "<li>After execution, the system will output the query result and say \"CORRECT\" if the query works for the sample dataset. Otherwise, it will say \"INCORRECT\" and also display the expected result for your comparison.\n",
    "<li>Your submission will be tested over a dataset different from and larger than the sample. You will receive full credit for a question if the query returns correct results on the test dataset. \n",
    "</ol>\n",
    "\n",
    "<h2>Notes</h2>\n",
    "<ul>\n",
    "<li>The DBMS running on the server is PostgreSQL 10.6. You may write any query to solve the questions as long as it conforms to its syntax. \n",
    "<li>You are encouraged to experiment with different queries by creating new code cells with the %%sql tag. However, when you submit your notebook, please make sure that there is exactly one cell with \"%%sql n\", for $1 \\le n \\le 10$, so that the autograder works properly. \n",
    "<li>Do not modify the line with %%sql; without it, the cell contents will be treated as Python code. \n",
    "</ul>"
   ]
  },
  {
   "cell_type": "markdown",
   "metadata": {},
   "source": [
    "<h2>Example</h2>\n",
    "\n",
    "As an example, you can copy and paste the following SQL code into the input box for one of the questions, and then press Shift + Enter. "
   ]
  },
  {
   "cell_type": "raw",
   "metadata": {},
   "source": [
    "SELECT Bars.name\n",
    "FROM Bars\n",
    "WHERE addr != ''"
   ]
  },
  {
   "cell_type": "markdown",
   "metadata": {},
   "source": [
    "If the notebook is working properly, then you should see a table of all the bars in the database. If not, please contact the TA's or make a post on Piazza and we will do our best to resolve the issue. "
   ]
  },
  {
   "cell_type": "markdown",
   "metadata": {},
   "source": [
    "<h1>Database Schema</h1>\n",
    "\n",
    "Drinkers(<u>name</u>, <u>addr</u>, hobby, frequent)\n",
    "\n",
    "Bars(<u>name</u>, addr, owner)\n",
    "\n",
    "Beers(<u>name</u>, brewer, alcohol)\n",
    "\n",
    "Drinks(<u>drinkerName</u>, <u>drinkerAddr</u>, <u>beerName</u>, rating)\n",
    "\n",
    "Sells(<u>barName</u>, <u>beerName</u>, price, discount)\n",
    "\n",
    "Favorites(<u>drinkerName</u>, <u>drinkerAddr</u>, <u>barName</u>, beerName, season)"
   ]
  },
  {
   "cell_type": "code",
   "execution_count": 45,
   "metadata": {
    "scrolled": false
   },
   "outputs": [
    {
     "data": {
      "text/html": [
       "\n",
       "<script>\n",
       "  function code_toggle() {\n",
       "    if (code_shown){\n",
       "      $('div.input:eq(0)').hide();\n",
       "    } else {\n",
       "      $('div.input:eq(0)').show();\n",
       "    }\n",
       "    code_shown = !code_shown;\n",
       "  }\n",
       "  \n",
       "  code_shown=true;\n",
       "  code_toggle();\n",
       "</script>\n"
      ]
     },
     "metadata": {},
     "output_type": "display_data"
    }
   ],
   "source": [
    "from IPython.core.magic import  (\n",
    "    Magics, magics_class, cell_magic, line_magic\n",
    ")\n",
    "from IPython.display import clear_output, display, Markdown\n",
    "\n",
    "import IPython.core.display as dis\n",
    "import requests, json\n",
    "import urllib.parse\n",
    "\n",
    "server_url = \"http://13.58.198.9:8844\"\n",
    "\n",
    "def execQueryEval(query, query_id):\n",
    "    cmd = server_url + \"/test?query~\"+urllib.parse.quote(query)+\"&nb~\"+str(query_id)\n",
    "    cmd.encode(\"utf-8\")\n",
    "    r = requests.get(cmd)\n",
    "    result = json.loads(r.text)\n",
    "    if result['success'] == 0:\n",
    "        print(\"SQL error, please check your SQL clause.\")\n",
    "        return \"\"\n",
    "    elif result['correct'] == 0:\n",
    "        print(\"INCORRECT\")\n",
    "        print(result['result'])\n",
    "        return \"\"\n",
    "    else:\n",
    "        print(\"CORRECT\")\n",
    "        return \"\"\n",
    "    return \"\"\n",
    "\n",
    "def execQueryResult(query):\n",
    "    cmd =  server_url + \"/result?query~\"+urllib.parse.quote(query)\n",
    "    cmd.encode(\"utf-8\")\n",
    "    r = requests.get(cmd)\n",
    "    result = json.loads(r.text)\n",
    "    if result['success'] == 0:\n",
    "        print(\"SQL error, please check your SQL clause.\")\n",
    "        return \"\"\n",
    "    else:\n",
    "        print(result['result'])\n",
    "        return \"\"\n",
    "    return \"\"\n",
    "\n",
    "def displayAsMarkdown(text):\n",
    "    display(Markdown(text))\n",
    "\n",
    "@magics_class\n",
    "class SQL(Magics):\n",
    "\n",
    "    @cell_magic\n",
    "    def sql(self, params, cell):\n",
    "        clear_output()\n",
    "        \n",
    "        # remove trailing semicolon\n",
    "        if cell.endswith(';'):\n",
    "            cell = cell.rstrip(';')\n",
    "            \n",
    "        # get the question number\n",
    "        n = -1\n",
    "        if len(params.strip()) > 0:\n",
    "            try:\n",
    "                n = int(params.strip())\n",
    "            except Exception:\n",
    "                pass\n",
    "        \n",
    "        # evaluate the query\n",
    "        if len(cell.strip()) > 1:\n",
    "            print (\"Query output: \")\n",
    "            displayAsMarkdown(execQueryResult(cell))\n",
    "            if n > -1:\n",
    "                print (\"Result: \")\n",
    "                displayAsMarkdown(execQueryEval(cell, n))\n",
    "\n",
    "## use ipython load_ext mechanism here if distributed\n",
    "get_ipython().register_magics(SQL)\n",
    "\n",
    "# hide this code cell\n",
    "html = \"\"\"\n",
    "<script>\n",
    "  function code_toggle() {\n",
    "    if (code_shown){\n",
    "      $('div.input:eq(0)').hide();\n",
    "    } else {\n",
    "      $('div.input:eq(0)').show();\n",
    "    }\n",
    "    code_shown = !code_shown;\n",
    "  }\n",
    "  \n",
    "  code_shown=true;\n",
    "  code_toggle();\n",
    "</script>\n",
    "\"\"\"\n",
    "dis.display_html(html, raw=True)"
   ]
  },
  {
   "cell_type": "markdown",
   "metadata": {},
   "source": [
    "<h2>Question 1:</h2><br>\n",
    "In California it is illegal to sell beverages with >60% alcohol content. Find the beers in the database that are illegal to sell in California. <br>\n",
    "\n",
    "<b>Note</b> - alcohol concentration is represented as a floating point number between 0 and 1."
   ]
  },
  {
   "cell_type": "code",
   "execution_count": 46,
   "metadata": {
    "scrolled": false
   },
   "outputs": [
    {
     "name": "stdout",
     "output_type": "stream",
     "text": [
      "Query output: \n",
      "[['Bud Super'], ['Rum'], ['Vodka']]\n"
     ]
    },
    {
     "data": {
      "text/markdown": [],
      "text/plain": [
       "<IPython.core.display.Markdown object>"
      ]
     },
     "metadata": {},
     "output_type": "display_data"
    },
    {
     "name": "stdout",
     "output_type": "stream",
     "text": [
      "Result: \n",
      "CORRECT\n"
     ]
    },
    {
     "data": {
      "text/markdown": [],
      "text/plain": [
       "<IPython.core.display.Markdown object>"
      ]
     },
     "metadata": {},
     "output_type": "display_data"
    }
   ],
   "source": [
    "%%sql 1\n",
    "\n",
    "SELECT name\n",
    "FROM Beers\n",
    "WHERE alcohol > 0.6"
   ]
  },
  {
   "cell_type": "code",
   "execution_count": null,
   "metadata": {
    "collapsed": true
   },
   "outputs": [],
   "source": [
    "%%sql 1\n"
   ]
  },
  {
   "cell_type": "markdown",
   "metadata": {},
   "source": [
    "<h2>Question 2:</h2><br>\n",
    "Find the name and location of bars that sell beers made by the 'Boston Beer Co'."
   ]
  },
  {
   "cell_type": "code",
   "execution_count": 47,
   "metadata": {},
   "outputs": [
    {
     "name": "stdout",
     "output_type": "stream",
     "text": [
      "Query output: \n",
      "[['Green Bar', '100 Green St'], ['Murphy Bar', '604 Green St'], ['Purple Bar', '404 Purple St'], ['Red Lion Bar', '211 Green St'], ['Sober Bar', '102 Purple St']]\n"
     ]
    },
    {
     "data": {
      "text/markdown": [],
      "text/plain": [
       "<IPython.core.display.Markdown object>"
      ]
     },
     "metadata": {},
     "output_type": "display_data"
    },
    {
     "name": "stdout",
     "output_type": "stream",
     "text": [
      "Result: \n",
      "CORRECT\n"
     ]
    },
    {
     "data": {
      "text/markdown": [],
      "text/plain": [
       "<IPython.core.display.Markdown object>"
      ]
     },
     "metadata": {},
     "output_type": "display_data"
    }
   ],
   "source": [
    "%%sql 2\n",
    "\n",
    "SELECT Bars.name,Bars.addr\n",
    "FROM Bars\n",
    "WHERE Bars.name IN (\n",
    "    SELECT Sells.barName\n",
    "    FROM Sells, Beers\n",
    "    WHERE Sells.beerName = Beers.name\n",
    "        and Beers.brewer = 'Boston Beer Co'\n",
    ") "
   ]
  },
  {
   "cell_type": "markdown",
   "metadata": {},
   "source": [
    "<h2>Question 3:</h2><br>\n",
    "Find all of the different beers that are sold in bars located on 'Green St'. <br>\n",
    "\n",
    "<b>Note</b> - you can assume that address is always in the format '[number] [street]' <br>\n"
   ]
  },
  {
   "cell_type": "code",
   "execution_count": 48,
   "metadata": {},
   "outputs": [
    {
     "name": "stdout",
     "output_type": "stream",
     "text": [
      "Query output: \n",
      "[['Bud'], ['Bud Lite'], ['Bud Super'], ['Coors'], ['Rum'], ['Sam Adams'], ['Vodka']]\n"
     ]
    },
    {
     "data": {
      "text/markdown": [],
      "text/plain": [
       "<IPython.core.display.Markdown object>"
      ]
     },
     "metadata": {},
     "output_type": "display_data"
    },
    {
     "name": "stdout",
     "output_type": "stream",
     "text": [
      "Result: \n",
      "CORRECT\n"
     ]
    },
    {
     "data": {
      "text/markdown": [],
      "text/plain": [
       "<IPython.core.display.Markdown object>"
      ]
     },
     "metadata": {},
     "output_type": "display_data"
    }
   ],
   "source": [
    "%%sql 3\n",
    "\n",
    "SELECT DISTINCT beerName\n",
    "FROM Sells\n",
    "WHERE  barName IN(\n",
    "    SELECT Bars.name \n",
    "    FROM Bars\n",
    "    WHERE Bars.addr LIKE '%Green St%'    \n",
    ")\n",
    "\n"
   ]
  },
  {
   "cell_type": "markdown",
   "metadata": {},
   "source": [
    "<h2>Question 4:</h2><br>\n",
    "Find pairs of drinkers (name1, addr1, name2, addr2) who share a favorite drink and who frequent the same bar.<br>\n",
    "\n",
    "<b>Note</b> - the context of each person's favorite drink (barName and season) do not need to be the same.<br>\n",
    "\n",
    "<b>Note</b> - it is expected that name1 || addr1 > name2 || addr2, so that the same information does not appear twice."
   ]
  },
  {
   "cell_type": "code",
   "execution_count": 49,
   "metadata": {
    "scrolled": true
   },
   "outputs": [
    {
     "name": "stdout",
     "output_type": "stream",
     "text": [
      "Query output: \n",
      "[['Gunter', 'Green St', 'Frank', 'Green St'], ['Helen', 'First St', 'Frank', 'Green St'], ['Helen', 'First St', 'Gunter', 'Green St']]\n"
     ]
    },
    {
     "data": {
      "text/markdown": [],
      "text/plain": [
       "<IPython.core.display.Markdown object>"
      ]
     },
     "metadata": {},
     "output_type": "display_data"
    },
    {
     "name": "stdout",
     "output_type": "stream",
     "text": [
      "Result: \n",
      "CORRECT\n"
     ]
    },
    {
     "data": {
      "text/markdown": [],
      "text/plain": [
       "<IPython.core.display.Markdown object>"
      ]
     },
     "metadata": {},
     "output_type": "display_data"
    }
   ],
   "source": [
    "%%sql 4\n",
    "\n",
    "(SELECT DISTINCT D1.name,D1.addr,D2.name,D2.addr\n",
    "FROM Drinkers D1, Drinkers D2\n",
    "WHERE D1.frequent = D2.frequent\n",
    "    and D1.name > D2.name)\n",
    "INTERSECT\n",
    "(SELECT DISTINCT F1.drinkerName,F1.drinkerAddr,F2.drinkerName,F2.drinkerAddr\n",
    "FROM Favorites F1,Favorites F2\n",
    "WHERE F1.beerName = F2.beerName\n",
    "    and F1.drinkerName > F2.drinkerName\n",
    ")\n"
   ]
  },
  {
   "cell_type": "markdown",
   "metadata": {},
   "source": [
    "<h2>Question 5:</h2><br>\n",
    "Find the undiscounted price at which each bar sells the 'Sam Adams' beer\n",
    "\n",
    "<b>Note</b> - the Sells.price attribute describes the price <b>after</b> all discounts are applied.<br>\n",
    "\n",
    "<b>Note</b> - the discount attribute is a number between 0 and 1, such that discountedPrice = undiscountedPrice * discount"
   ]
  },
  {
   "cell_type": "code",
   "execution_count": 50,
   "metadata": {
    "scrolled": false
   },
   "outputs": [
    {
     "name": "stdout",
     "output_type": "stream",
     "text": [
      "Query output: \n",
      "[['Green Bar', 22.5], ['Murphy Bar', 13.3333], ['Purple Bar', 16.6667], ['Red Lion Bar', 10.0], ['Sober Bar', 60.0]]\n"
     ]
    },
    {
     "data": {
      "text/markdown": [],
      "text/plain": [
       "<IPython.core.display.Markdown object>"
      ]
     },
     "metadata": {},
     "output_type": "display_data"
    },
    {
     "name": "stdout",
     "output_type": "stream",
     "text": [
      "Result: \n",
      "CORRECT\n"
     ]
    },
    {
     "data": {
      "text/markdown": [],
      "text/plain": [
       "<IPython.core.display.Markdown object>"
      ]
     },
     "metadata": {},
     "output_type": "display_data"
    }
   ],
   "source": [
    "%%sql 5\n",
    "\n",
    "SELECT Sells.barName,Sells.price/Sells.discount\n",
    "FROM Sells\n",
    "WHERE Sells.beerName = 'Sam Adams'\n"
   ]
  },
  {
   "cell_type": "markdown",
   "metadata": {},
   "source": [
    "<h2>Question 6:</h2><br>\n",
    "Find the bars that sell a unique beer (a beer that no other bars have)"
   ]
  },
  {
   "cell_type": "code",
   "execution_count": 51,
   "metadata": {
    "scrolled": false
   },
   "outputs": [
    {
     "name": "stdout",
     "output_type": "stream",
     "text": [
      "Query output: \n",
      "[['Green Bar']]\n"
     ]
    },
    {
     "data": {
      "text/markdown": [],
      "text/plain": [
       "<IPython.core.display.Markdown object>"
      ]
     },
     "metadata": {},
     "output_type": "display_data"
    },
    {
     "name": "stdout",
     "output_type": "stream",
     "text": [
      "Result: \n",
      "CORRECT\n"
     ]
    },
    {
     "data": {
      "text/markdown": [],
      "text/plain": [
       "<IPython.core.display.Markdown object>"
      ]
     },
     "metadata": {},
     "output_type": "display_data"
    }
   ],
   "source": [
    "%%sql 6\n",
    "SELECT barName\n",
    "FROM Sells\n",
    "WHERE  beerName IN(\n",
    "    SELECT beerName\n",
    "    FROM Sells \n",
    "    GROUP BY beerName\n",
    "    HAVING COUNT(barName)=1\n",
    ")"
   ]
  },
  {
   "cell_type": "markdown",
   "metadata": {},
   "source": [
    "<h2>Question 7:</h2><br>\n",
    "Find the bars that serve the Sam Adams beer cheaper than the average market price.\n",
    "\n",
    "<b>Note</b> - the average market price is defined as the average price of the beer across all bars that sell the beer. "
   ]
  },
  {
   "cell_type": "code",
   "execution_count": 52,
   "metadata": {
    "scrolled": false
   },
   "outputs": [
    {
     "name": "stdout",
     "output_type": "stream",
     "text": [
      "Query output: \n",
      "[['Murphy Bar'], ['Red Lion Bar']]\n"
     ]
    },
    {
     "data": {
      "text/markdown": [],
      "text/plain": [
       "<IPython.core.display.Markdown object>"
      ]
     },
     "metadata": {},
     "output_type": "display_data"
    },
    {
     "name": "stdout",
     "output_type": "stream",
     "text": [
      "Result: \n",
      "CORRECT\n"
     ]
    },
    {
     "data": {
      "text/markdown": [],
      "text/plain": [
       "<IPython.core.display.Markdown object>"
      ]
     },
     "metadata": {},
     "output_type": "display_data"
    }
   ],
   "source": [
    "%%sql 7\n",
    "SELECT barName\n",
    "FROM sells \n",
    "WHERE beerName = 'Sam Adams'\n",
    "    and price < ( \n",
    "SELECT AVG(price) \n",
    "FROM Sells\n",
    "WHERE beerName = 'Sam Adams'\n",
    "GROUP BY beerName\n",
    "    )\n"
   ]
  },
  {
   "cell_type": "markdown",
   "metadata": {},
   "source": [
    "<h2>Question 8:</h2><br>\n",
    "Find pairs of bars (Name1, Name2) that sell the same set of drinks. <br>\n",
    "\n",
    "<b>Note</b> - for each pair, we would like for Name1 > Name2, so that the same information does not appear twice."
   ]
  },
  {
   "cell_type": "code",
   "execution_count": 53,
   "metadata": {
    "scrolled": false
   },
   "outputs": [
    {
     "name": "stdout",
     "output_type": "stream",
     "text": [
      "Query output: \n",
      "[['Red Lion Bar', 'Murphy Bar']]\n"
     ]
    },
    {
     "data": {
      "text/markdown": [],
      "text/plain": [
       "<IPython.core.display.Markdown object>"
      ]
     },
     "metadata": {},
     "output_type": "display_data"
    },
    {
     "name": "stdout",
     "output_type": "stream",
     "text": [
      "Result: \n",
      "CORRECT\n"
     ]
    },
    {
     "data": {
      "text/markdown": [],
      "text/plain": [
       "<IPython.core.display.Markdown object>"
      ]
     },
     "metadata": {},
     "output_type": "display_data"
    }
   ],
   "source": [
    "%%sql 8\n",
    "(\n",
    "SELECT pair_count.Bar1, pair_count.Bar2\n",
    "FROM\n",
    "(\n",
    "    SELECT (same_beer.bar1) AS Bar1,(same_beer.bar2) AS Bar2, COUNT(same_beer) AS p_count\n",
    "    FROM\n",
    "    (\n",
    "        SELECT (S1.barName) AS bar1,(S2.barName) AS bar2,(S1.barName, S2.barName) AS pair\n",
    "        FROM Sells S1, Sells S2\n",
    "        WHERE S1.beerName = S2.beerName\n",
    "            and S1.barName > S2.barName\n",
    "    )AS same_beer\n",
    "    GROUP BY same_beer.bar1, same_beer.bar2\n",
    ") AS pair_count,\n",
    "(\n",
    "    SELECT (bar_counts.barName) AS barname, (bar_counts.counts) AS b_count\n",
    "    FROM\n",
    "    (\n",
    "        SELECT barName, COUNT(beerName)AS counts\n",
    "        FROM Sells\n",
    "        GROUP BY barName\n",
    "    )AS bar_counts\n",
    ") AS barName_count\n",
    "WHERE pair_count.Bar1 = barName_count.barname \n",
    "    and pair_count.p_count = barName_count.b_count\n",
    ")\n",
    "INTERSECT\n",
    "(\n",
    "SELECT pair_count.Bar1, pair_count.Bar2\n",
    "FROM\n",
    "(\n",
    "    SELECT (same_beer.bar1) AS Bar1,(same_beer.bar2) AS Bar2, COUNT(same_beer) AS p_count\n",
    "    FROM\n",
    "    (\n",
    "        SELECT (S1.barName) AS bar1,(S2.barName) AS bar2,(S1.barName, S2.barName) AS pair\n",
    "        FROM Sells S1, Sells S2\n",
    "        WHERE S1.beerName = S2.beerName\n",
    "            and S1.barName > S2.barName\n",
    "    )AS same_beer\n",
    "    GROUP BY same_beer.bar1, same_beer.bar2\n",
    ") AS pair_count,\n",
    "(\n",
    "    SELECT (bar_counts.barName) AS barname, (bar_counts.counts) AS b_count\n",
    "    FROM\n",
    "    (\n",
    "        SELECT barName, COUNT(beerName)AS counts\n",
    "        FROM Sells\n",
    "        GROUP BY barName\n",
    "    )AS bar_counts\n",
    ") AS barName_count\n",
    "WHERE pair_count.Bar2 = barName_count.barname \n",
    "    and pair_count.p_count = barName_count.b_count\n",
    ")\n"
   ]
  },
  {
   "cell_type": "markdown",
   "metadata": {},
   "source": [
    "<h2>Question 9:</h2><br>\n",
    "Suppose we are interested in computing statistics about the ratings of people's favorite beers. Obtain a list of all ratings for all beers that have been favorited by >= 3 different people. "
   ]
  },
  {
   "cell_type": "code",
   "execution_count": 54,
   "metadata": {
    "scrolled": true
   },
   "outputs": [
    {
     "name": "stdout",
     "output_type": "stream",
     "text": [
      "Query output: \n",
      "[[2], [2], [4], [5]]\n"
     ]
    },
    {
     "data": {
      "text/markdown": [],
      "text/plain": [
       "<IPython.core.display.Markdown object>"
      ]
     },
     "metadata": {},
     "output_type": "display_data"
    },
    {
     "name": "stdout",
     "output_type": "stream",
     "text": [
      "Result: \n",
      "CORRECT\n"
     ]
    },
    {
     "data": {
      "text/markdown": [],
      "text/plain": [
       "<IPython.core.display.Markdown object>"
      ]
     },
     "metadata": {},
     "output_type": "display_data"
    }
   ],
   "source": [
    "%%sql 9\n",
    "SELECT rating\n",
    "FROM Drinks\n",
    "WHERE beerName IN (\n",
    "    SELECT beerName\n",
    "    FROM Favorites\n",
    "    GROUP BY beerName\n",
    "    HAVING COUNT(DISTINCT drinkerName)>=3\n",
    ")"
   ]
  },
  {
   "cell_type": "markdown",
   "metadata": {},
   "source": [
    "<h2>Question 10:</h2><br>\n",
    "Find the most expensive beer, along with its price, that is sold at each bar. <br>\n",
    "\n",
    "<b>Note</b> - the expected output format is (bar name, name of most expensive beer at that bar, price of most expensive beer) <br>\n",
    "\n",
    "<b>Note</b> - you can assume that there will be at most one row for each bar."
   ]
  },
  {
   "cell_type": "code",
   "execution_count": 55,
   "metadata": {},
   "outputs": [
    {
     "name": "stdout",
     "output_type": "stream",
     "text": [
      "Query output: \n",
      "[['Green Bar', 'Sam Adams', 4.5], ['Murphy Bar', 'Rum', 15.0], ['Purple Bar', 'Sam Adams', 5.0], ['Red Lion Bar', 'Vodka', 15.0], ['Sober Bar', 'Sam Adams', 6.0]]\n"
     ]
    },
    {
     "data": {
      "text/markdown": [],
      "text/plain": [
       "<IPython.core.display.Markdown object>"
      ]
     },
     "metadata": {},
     "output_type": "display_data"
    },
    {
     "name": "stdout",
     "output_type": "stream",
     "text": [
      "Result: \n",
      "CORRECT\n"
     ]
    },
    {
     "data": {
      "text/markdown": [],
      "text/plain": [
       "<IPython.core.display.Markdown object>"
      ]
     },
     "metadata": {},
     "output_type": "display_data"
    }
   ],
   "source": [
    "%%sql 10\n",
    "\n",
    "SELECT Sells.barName, Sells.beerName, New.max_price\n",
    "FROM\n",
    "(\n",
    "    SELECT barName,MAX(price) AS max_price\n",
    "    FROM Sells\n",
    "    GROUP BY barName\n",
    ")AS New, Sells\n",
    "WHERE New.barName=Sells.barName\n",
    "    and Sells.price=New.max_price"
   ]
  }
 ],
 "metadata": {
  "kernelspec": {
   "display_name": "Python 3",
   "language": "python",
   "name": "python3"
  },
  "language_info": {
   "codemirror_mode": {
    "name": "ipython",
    "version": 3
   },
   "file_extension": ".py",
   "mimetype": "text/x-python",
   "name": "python",
   "nbconvert_exporter": "python",
   "pygments_lexer": "ipython3",
   "version": "3.6.3"
  }
 },
 "nbformat": 4,
 "nbformat_minor": 2
}
